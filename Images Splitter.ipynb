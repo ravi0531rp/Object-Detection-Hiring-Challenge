{
 "cells": [
  {
   "cell_type": "code",
   "execution_count": 1,
   "id": "964e34a5",
   "metadata": {},
   "outputs": [],
   "source": [
    "import json\n",
    "import numpy as np\n",
    "from collections import Counter\n",
    "import seaborn as sns\n",
    "import matplotlib.pyplot as plt\n",
    "import shutil\n",
    "from glob import glob\n",
    "from random import sample\n",
    "import os"
   ]
  },
  {
   "cell_type": "markdown",
   "id": "02862be0",
   "metadata": {},
   "source": [
    "## Separate the images randomly into train and test sets"
   ]
  },
  {
   "cell_type": "code",
   "execution_count": 2,
   "id": "71b90328",
   "metadata": {},
   "outputs": [],
   "source": [
    "allImages = sorted(glob(\"/media/heisenberg/Storage/AllCodesSectionwise/Z-MISC-PROJECTS/EagleView/trainval/images/*\"))"
   ]
  },
  {
   "cell_type": "code",
   "execution_count": 3,
   "id": "2a890194",
   "metadata": {},
   "outputs": [
    {
     "data": {
      "text/plain": [
       "2239"
      ]
     },
     "execution_count": 3,
     "metadata": {},
     "output_type": "execute_result"
    }
   ],
   "source": [
    "len(allImages)"
   ]
  },
  {
   "cell_type": "code",
   "execution_count": 4,
   "id": "5d7ee869",
   "metadata": {},
   "outputs": [],
   "source": [
    "shuffledImages = sample(allImages, len(allImages) )"
   ]
  },
  {
   "cell_type": "code",
   "execution_count": 6,
   "id": "38a8aa62",
   "metadata": {},
   "outputs": [
    {
     "data": {
      "text/plain": [
       "['/media/heisenberg/Storage/AllCodesSectionwise/Z-MISC-PROJECTS/EagleView/trainval/images/image_000000001.jpg',\n",
       " '/media/heisenberg/Storage/AllCodesSectionwise/Z-MISC-PROJECTS/EagleView/trainval/images/image_000000002.jpg',\n",
       " '/media/heisenberg/Storage/AllCodesSectionwise/Z-MISC-PROJECTS/EagleView/trainval/images/image_000000003.jpg',\n",
       " '/media/heisenberg/Storage/AllCodesSectionwise/Z-MISC-PROJECTS/EagleView/trainval/images/image_000000004.jpg',\n",
       " '/media/heisenberg/Storage/AllCodesSectionwise/Z-MISC-PROJECTS/EagleView/trainval/images/image_000000005.jpg',\n",
       " '/media/heisenberg/Storage/AllCodesSectionwise/Z-MISC-PROJECTS/EagleView/trainval/images/image_000000006.jpg',\n",
       " '/media/heisenberg/Storage/AllCodesSectionwise/Z-MISC-PROJECTS/EagleView/trainval/images/image_000000007.jpg',\n",
       " '/media/heisenberg/Storage/AllCodesSectionwise/Z-MISC-PROJECTS/EagleView/trainval/images/image_000000008.jpg',\n",
       " '/media/heisenberg/Storage/AllCodesSectionwise/Z-MISC-PROJECTS/EagleView/trainval/images/image_000000009.jpg',\n",
       " '/media/heisenberg/Storage/AllCodesSectionwise/Z-MISC-PROJECTS/EagleView/trainval/images/image_000000010.jpg']"
      ]
     },
     "execution_count": 6,
     "metadata": {},
     "output_type": "execute_result"
    }
   ],
   "source": [
    "allImages[0:10]"
   ]
  },
  {
   "cell_type": "code",
   "execution_count": 7,
   "id": "830f867e",
   "metadata": {},
   "outputs": [
    {
     "data": {
      "text/plain": [
       "['/media/heisenberg/Storage/AllCodesSectionwise/Z-MISC-PROJECTS/EagleView/trainval/images/image_000000713.jpg',\n",
       " '/media/heisenberg/Storage/AllCodesSectionwise/Z-MISC-PROJECTS/EagleView/trainval/images/image_000000998.jpg',\n",
       " '/media/heisenberg/Storage/AllCodesSectionwise/Z-MISC-PROJECTS/EagleView/trainval/images/image_000000020.jpg',\n",
       " '/media/heisenberg/Storage/AllCodesSectionwise/Z-MISC-PROJECTS/EagleView/trainval/images/image_000000158.jpg',\n",
       " '/media/heisenberg/Storage/AllCodesSectionwise/Z-MISC-PROJECTS/EagleView/trainval/images/image_000001031.jpg',\n",
       " '/media/heisenberg/Storage/AllCodesSectionwise/Z-MISC-PROJECTS/EagleView/trainval/images/image_000001488.jpg',\n",
       " '/media/heisenberg/Storage/AllCodesSectionwise/Z-MISC-PROJECTS/EagleView/trainval/images/image_000001515.jpg',\n",
       " '/media/heisenberg/Storage/AllCodesSectionwise/Z-MISC-PROJECTS/EagleView/trainval/images/image_000000929.jpg',\n",
       " '/media/heisenberg/Storage/AllCodesSectionwise/Z-MISC-PROJECTS/EagleView/trainval/images/image_000000863.jpg',\n",
       " '/media/heisenberg/Storage/AllCodesSectionwise/Z-MISC-PROJECTS/EagleView/trainval/images/image_000000478.jpg']"
      ]
     },
     "execution_count": 7,
     "metadata": {},
     "output_type": "execute_result"
    }
   ],
   "source": [
    "shuffledImages[0:10]"
   ]
  },
  {
   "cell_type": "code",
   "execution_count": 8,
   "id": "2b5e339d",
   "metadata": {},
   "outputs": [],
   "source": [
    "split_ratio = 0.8"
   ]
  },
  {
   "cell_type": "code",
   "execution_count": 9,
   "id": "d49eb006",
   "metadata": {},
   "outputs": [],
   "source": [
    "train_images = shuffledImages[:int(split_ratio*len(shuffledImages))]\n",
    "test_images = shuffledImages[int(split_ratio*len(shuffledImages)):]"
   ]
  },
  {
   "cell_type": "code",
   "execution_count": 10,
   "id": "899dca7e",
   "metadata": {},
   "outputs": [
    {
     "data": {
      "text/plain": [
       "1791"
      ]
     },
     "execution_count": 10,
     "metadata": {},
     "output_type": "execute_result"
    }
   ],
   "source": [
    "len(train_images)"
   ]
  },
  {
   "cell_type": "code",
   "execution_count": 11,
   "id": "cd3d583a",
   "metadata": {},
   "outputs": [
    {
     "data": {
      "text/plain": [
       "448"
      ]
     },
     "execution_count": 11,
     "metadata": {},
     "output_type": "execute_result"
    }
   ],
   "source": [
    "len(test_images)"
   ]
  },
  {
   "cell_type": "code",
   "execution_count": 13,
   "id": "1c2f6482",
   "metadata": {},
   "outputs": [],
   "source": [
    "train_path = r\"/media/heisenberg/Storage/AllCodesSectionwise/Z-MISC-PROJECTS/EagleView/code-repo/data/train-images\"\n",
    "for file in train_images:\n",
    "    fname = file.split(r\"/\")[-1]\n",
    "    shutil.copy(file,os.path.join(train_path,fname) )"
   ]
  },
  {
   "cell_type": "code",
   "execution_count": 14,
   "id": "b19f1f9e",
   "metadata": {},
   "outputs": [],
   "source": [
    "test_path = r\"/media/heisenberg/Storage/AllCodesSectionwise/Z-MISC-PROJECTS/EagleView/code-repo/data/test-images\"\n",
    "for file in test_images:\n",
    "    fname = file.split(r\"/\")[-1]\n",
    "    shutil.copy(file,os.path.join(test_path,fname) )"
   ]
  },
  {
   "cell_type": "code",
   "execution_count": null,
   "id": "84b0a61a",
   "metadata": {},
   "outputs": [],
   "source": []
  }
 ],
 "metadata": {
  "kernelspec": {
   "display_name": "Python [conda env:tf22_gpu] *",
   "language": "python",
   "name": "conda-env-tf22_gpu-py"
  },
  "language_info": {
   "codemirror_mode": {
    "name": "ipython",
    "version": 3
   },
   "file_extension": ".py",
   "mimetype": "text/x-python",
   "name": "python",
   "nbconvert_exporter": "python",
   "pygments_lexer": "ipython3",
   "version": "3.8.12"
  }
 },
 "nbformat": 4,
 "nbformat_minor": 5
}
